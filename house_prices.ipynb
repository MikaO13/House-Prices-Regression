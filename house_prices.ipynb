{
 "cells": [
  {
   "cell_type": "code",
   "execution_count": 806,
   "metadata": {},
   "outputs": [],
   "source": [
    "import numpy as np\n",
    "import pandas as pd\n",
    "import matplotlib.pyplot as plt\n",
    "import seaborn as sns\n",
    "from sklearn.feature_selection import SelectKBest, f_regression\n",
    "from sklearn.model_selection import train_test_split\n",
    "from sklearn.linear_model import LinearRegression, BayesianRidge\n",
    "from sklearn.ensemble import RandomForestRegressor\n",
    "from sklearn.model_selection import cross_val_score, GridSearchCV, RandomizedSearchCV, KFold\n",
    "import lightgbm as lgbm"
   ]
  },
  {
   "cell_type": "code",
   "execution_count": 749,
   "metadata": {},
   "outputs": [],
   "source": [
    "train_df = pd.read_csv('train.csv')\n",
    "test_df = pd.read_csv('test.csv')\n",
    "df = pd.concat([train_df, test_df], axis=0)"
   ]
  },
  {
   "cell_type": "code",
   "execution_count": 750,
   "metadata": {},
   "outputs": [
    {
     "data": {
      "text/html": [
       "<div>\n",
       "<style scoped>\n",
       "    .dataframe tbody tr th:only-of-type {\n",
       "        vertical-align: middle;\n",
       "    }\n",
       "\n",
       "    .dataframe tbody tr th {\n",
       "        vertical-align: top;\n",
       "    }\n",
       "\n",
       "    .dataframe thead th {\n",
       "        text-align: right;\n",
       "    }\n",
       "</style>\n",
       "<table border=\"1\" class=\"dataframe\">\n",
       "  <thead>\n",
       "    <tr style=\"text-align: right;\">\n",
       "      <th></th>\n",
       "      <th>Id</th>\n",
       "      <th>MSSubClass</th>\n",
       "      <th>MSZoning</th>\n",
       "      <th>LotFrontage</th>\n",
       "      <th>LotArea</th>\n",
       "      <th>Street</th>\n",
       "      <th>Alley</th>\n",
       "      <th>LotShape</th>\n",
       "      <th>LandContour</th>\n",
       "      <th>Utilities</th>\n",
       "      <th>...</th>\n",
       "      <th>PoolArea</th>\n",
       "      <th>PoolQC</th>\n",
       "      <th>Fence</th>\n",
       "      <th>MiscFeature</th>\n",
       "      <th>MiscVal</th>\n",
       "      <th>MoSold</th>\n",
       "      <th>YrSold</th>\n",
       "      <th>SaleType</th>\n",
       "      <th>SaleCondition</th>\n",
       "      <th>SalePrice</th>\n",
       "    </tr>\n",
       "  </thead>\n",
       "  <tbody>\n",
       "    <tr>\n",
       "      <th>0</th>\n",
       "      <td>1</td>\n",
       "      <td>60</td>\n",
       "      <td>RL</td>\n",
       "      <td>65.0</td>\n",
       "      <td>8450</td>\n",
       "      <td>Pave</td>\n",
       "      <td>NaN</td>\n",
       "      <td>Reg</td>\n",
       "      <td>Lvl</td>\n",
       "      <td>AllPub</td>\n",
       "      <td>...</td>\n",
       "      <td>0</td>\n",
       "      <td>NaN</td>\n",
       "      <td>NaN</td>\n",
       "      <td>NaN</td>\n",
       "      <td>0</td>\n",
       "      <td>2</td>\n",
       "      <td>2008</td>\n",
       "      <td>WD</td>\n",
       "      <td>Normal</td>\n",
       "      <td>208500.0</td>\n",
       "    </tr>\n",
       "    <tr>\n",
       "      <th>1</th>\n",
       "      <td>2</td>\n",
       "      <td>20</td>\n",
       "      <td>RL</td>\n",
       "      <td>80.0</td>\n",
       "      <td>9600</td>\n",
       "      <td>Pave</td>\n",
       "      <td>NaN</td>\n",
       "      <td>Reg</td>\n",
       "      <td>Lvl</td>\n",
       "      <td>AllPub</td>\n",
       "      <td>...</td>\n",
       "      <td>0</td>\n",
       "      <td>NaN</td>\n",
       "      <td>NaN</td>\n",
       "      <td>NaN</td>\n",
       "      <td>0</td>\n",
       "      <td>5</td>\n",
       "      <td>2007</td>\n",
       "      <td>WD</td>\n",
       "      <td>Normal</td>\n",
       "      <td>181500.0</td>\n",
       "    </tr>\n",
       "    <tr>\n",
       "      <th>2</th>\n",
       "      <td>3</td>\n",
       "      <td>60</td>\n",
       "      <td>RL</td>\n",
       "      <td>68.0</td>\n",
       "      <td>11250</td>\n",
       "      <td>Pave</td>\n",
       "      <td>NaN</td>\n",
       "      <td>IR1</td>\n",
       "      <td>Lvl</td>\n",
       "      <td>AllPub</td>\n",
       "      <td>...</td>\n",
       "      <td>0</td>\n",
       "      <td>NaN</td>\n",
       "      <td>NaN</td>\n",
       "      <td>NaN</td>\n",
       "      <td>0</td>\n",
       "      <td>9</td>\n",
       "      <td>2008</td>\n",
       "      <td>WD</td>\n",
       "      <td>Normal</td>\n",
       "      <td>223500.0</td>\n",
       "    </tr>\n",
       "    <tr>\n",
       "      <th>3</th>\n",
       "      <td>4</td>\n",
       "      <td>70</td>\n",
       "      <td>RL</td>\n",
       "      <td>60.0</td>\n",
       "      <td>9550</td>\n",
       "      <td>Pave</td>\n",
       "      <td>NaN</td>\n",
       "      <td>IR1</td>\n",
       "      <td>Lvl</td>\n",
       "      <td>AllPub</td>\n",
       "      <td>...</td>\n",
       "      <td>0</td>\n",
       "      <td>NaN</td>\n",
       "      <td>NaN</td>\n",
       "      <td>NaN</td>\n",
       "      <td>0</td>\n",
       "      <td>2</td>\n",
       "      <td>2006</td>\n",
       "      <td>WD</td>\n",
       "      <td>Abnorml</td>\n",
       "      <td>140000.0</td>\n",
       "    </tr>\n",
       "    <tr>\n",
       "      <th>4</th>\n",
       "      <td>5</td>\n",
       "      <td>60</td>\n",
       "      <td>RL</td>\n",
       "      <td>84.0</td>\n",
       "      <td>14260</td>\n",
       "      <td>Pave</td>\n",
       "      <td>NaN</td>\n",
       "      <td>IR1</td>\n",
       "      <td>Lvl</td>\n",
       "      <td>AllPub</td>\n",
       "      <td>...</td>\n",
       "      <td>0</td>\n",
       "      <td>NaN</td>\n",
       "      <td>NaN</td>\n",
       "      <td>NaN</td>\n",
       "      <td>0</td>\n",
       "      <td>12</td>\n",
       "      <td>2008</td>\n",
       "      <td>WD</td>\n",
       "      <td>Normal</td>\n",
       "      <td>250000.0</td>\n",
       "    </tr>\n",
       "  </tbody>\n",
       "</table>\n",
       "<p>5 rows × 81 columns</p>\n",
       "</div>"
      ],
      "text/plain": [
       "   Id  MSSubClass MSZoning  LotFrontage  LotArea Street Alley LotShape  \\\n",
       "0   1          60       RL         65.0     8450   Pave   NaN      Reg   \n",
       "1   2          20       RL         80.0     9600   Pave   NaN      Reg   \n",
       "2   3          60       RL         68.0    11250   Pave   NaN      IR1   \n",
       "3   4          70       RL         60.0     9550   Pave   NaN      IR1   \n",
       "4   5          60       RL         84.0    14260   Pave   NaN      IR1   \n",
       "\n",
       "  LandContour Utilities  ... PoolArea PoolQC Fence MiscFeature MiscVal MoSold  \\\n",
       "0         Lvl    AllPub  ...        0    NaN   NaN         NaN       0      2   \n",
       "1         Lvl    AllPub  ...        0    NaN   NaN         NaN       0      5   \n",
       "2         Lvl    AllPub  ...        0    NaN   NaN         NaN       0      9   \n",
       "3         Lvl    AllPub  ...        0    NaN   NaN         NaN       0      2   \n",
       "4         Lvl    AllPub  ...        0    NaN   NaN         NaN       0     12   \n",
       "\n",
       "  YrSold  SaleType  SaleCondition  SalePrice  \n",
       "0   2008        WD         Normal   208500.0  \n",
       "1   2007        WD         Normal   181500.0  \n",
       "2   2008        WD         Normal   223500.0  \n",
       "3   2006        WD        Abnorml   140000.0  \n",
       "4   2008        WD         Normal   250000.0  \n",
       "\n",
       "[5 rows x 81 columns]"
      ]
     },
     "execution_count": 750,
     "metadata": {},
     "output_type": "execute_result"
    }
   ],
   "source": [
    "df.head()"
   ]
  },
  {
   "cell_type": "code",
   "execution_count": 751,
   "metadata": {},
   "outputs": [
    {
     "name": "stdout",
     "output_type": "stream",
     "text": [
      "<class 'pandas.core.frame.DataFrame'>\n",
      "Int64Index: 2919 entries, 0 to 1458\n",
      "Data columns (total 81 columns):\n",
      " #   Column         Non-Null Count  Dtype  \n",
      "---  ------         --------------  -----  \n",
      " 0   Id             2919 non-null   int64  \n",
      " 1   MSSubClass     2919 non-null   int64  \n",
      " 2   MSZoning       2915 non-null   object \n",
      " 3   LotFrontage    2433 non-null   float64\n",
      " 4   LotArea        2919 non-null   int64  \n",
      " 5   Street         2919 non-null   object \n",
      " 6   Alley          198 non-null    object \n",
      " 7   LotShape       2919 non-null   object \n",
      " 8   LandContour    2919 non-null   object \n",
      " 9   Utilities      2917 non-null   object \n",
      " 10  LotConfig      2919 non-null   object \n",
      " 11  LandSlope      2919 non-null   object \n",
      " 12  Neighborhood   2919 non-null   object \n",
      " 13  Condition1     2919 non-null   object \n",
      " 14  Condition2     2919 non-null   object \n",
      " 15  BldgType       2919 non-null   object \n",
      " 16  HouseStyle     2919 non-null   object \n",
      " 17  OverallQual    2919 non-null   int64  \n",
      " 18  OverallCond    2919 non-null   int64  \n",
      " 19  YearBuilt      2919 non-null   int64  \n",
      " 20  YearRemodAdd   2919 non-null   int64  \n",
      " 21  RoofStyle      2919 non-null   object \n",
      " 22  RoofMatl       2919 non-null   object \n",
      " 23  Exterior1st    2918 non-null   object \n",
      " 24  Exterior2nd    2918 non-null   object \n",
      " 25  MasVnrType     2895 non-null   object \n",
      " 26  MasVnrArea     2896 non-null   float64\n",
      " 27  ExterQual      2919 non-null   object \n",
      " 28  ExterCond      2919 non-null   object \n",
      " 29  Foundation     2919 non-null   object \n",
      " 30  BsmtQual       2838 non-null   object \n",
      " 31  BsmtCond       2837 non-null   object \n",
      " 32  BsmtExposure   2837 non-null   object \n",
      " 33  BsmtFinType1   2840 non-null   object \n",
      " 34  BsmtFinSF1     2918 non-null   float64\n",
      " 35  BsmtFinType2   2839 non-null   object \n",
      " 36  BsmtFinSF2     2918 non-null   float64\n",
      " 37  BsmtUnfSF      2918 non-null   float64\n",
      " 38  TotalBsmtSF    2918 non-null   float64\n",
      " 39  Heating        2919 non-null   object \n",
      " 40  HeatingQC      2919 non-null   object \n",
      " 41  CentralAir     2919 non-null   object \n",
      " 42  Electrical     2918 non-null   object \n",
      " 43  1stFlrSF       2919 non-null   int64  \n",
      " 44  2ndFlrSF       2919 non-null   int64  \n",
      " 45  LowQualFinSF   2919 non-null   int64  \n",
      " 46  GrLivArea      2919 non-null   int64  \n",
      " 47  BsmtFullBath   2917 non-null   float64\n",
      " 48  BsmtHalfBath   2917 non-null   float64\n",
      " 49  FullBath       2919 non-null   int64  \n",
      " 50  HalfBath       2919 non-null   int64  \n",
      " 51  BedroomAbvGr   2919 non-null   int64  \n",
      " 52  KitchenAbvGr   2919 non-null   int64  \n",
      " 53  KitchenQual    2918 non-null   object \n",
      " 54  TotRmsAbvGrd   2919 non-null   int64  \n",
      " 55  Functional     2917 non-null   object \n",
      " 56  Fireplaces     2919 non-null   int64  \n",
      " 57  FireplaceQu    1499 non-null   object \n",
      " 58  GarageType     2762 non-null   object \n",
      " 59  GarageYrBlt    2760 non-null   float64\n",
      " 60  GarageFinish   2760 non-null   object \n",
      " 61  GarageCars     2918 non-null   float64\n",
      " 62  GarageArea     2918 non-null   float64\n",
      " 63  GarageQual     2760 non-null   object \n",
      " 64  GarageCond     2760 non-null   object \n",
      " 65  PavedDrive     2919 non-null   object \n",
      " 66  WoodDeckSF     2919 non-null   int64  \n",
      " 67  OpenPorchSF    2919 non-null   int64  \n",
      " 68  EnclosedPorch  2919 non-null   int64  \n",
      " 69  3SsnPorch      2919 non-null   int64  \n",
      " 70  ScreenPorch    2919 non-null   int64  \n",
      " 71  PoolArea       2919 non-null   int64  \n",
      " 72  PoolQC         10 non-null     object \n",
      " 73  Fence          571 non-null    object \n",
      " 74  MiscFeature    105 non-null    object \n",
      " 75  MiscVal        2919 non-null   int64  \n",
      " 76  MoSold         2919 non-null   int64  \n",
      " 77  YrSold         2919 non-null   int64  \n",
      " 78  SaleType       2918 non-null   object \n",
      " 79  SaleCondition  2919 non-null   object \n",
      " 80  SalePrice      1460 non-null   float64\n",
      "dtypes: float64(12), int64(26), object(43)\n",
      "memory usage: 1.8+ MB\n"
     ]
    }
   ],
   "source": [
    "df.info()"
   ]
  },
  {
   "cell_type": "code",
   "execution_count": 752,
   "metadata": {},
   "outputs": [
    {
     "data": {
      "text/plain": [
       "20     1079\n",
       "60      575\n",
       "50      287\n",
       "120     182\n",
       "30      139\n",
       "70      128\n",
       "160     128\n",
       "80      118\n",
       "90      109\n",
       "190      61\n",
       "85       48\n",
       "75       23\n",
       "45       18\n",
       "180      17\n",
       "40        6\n",
       "150       1\n",
       "Name: MSSubClass, dtype: int64"
      ]
     },
     "execution_count": 752,
     "metadata": {},
     "output_type": "execute_result"
    }
   ],
   "source": [
    "df.MSSubClass.value_counts()"
   ]
  },
  {
   "cell_type": "code",
   "execution_count": 753,
   "metadata": {},
   "outputs": [
    {
     "data": {
      "image/png": "[encoded data removed]",
      "text/plain": [
       "<Figure size 720x720 with 16 Axes>"
      ]
     },
     "metadata": {
      "needs_background": "light"
     },
     "output_type": "display_data"
    },
    {
     "data": {
      "text/plain": [
       "<Figure size 432x288 with 0 Axes>"
      ]
     },
     "metadata": {},
     "output_type": "display_data"
    }
   ],
   "source": [
    "fig = plt.figure(figsize=(10, 10))\n",
    "temp_train_df = df.head(1460)\n",
    "types = sorted(df.MSSubClass.unique())\n",
    "\n",
    "for i in range(16):\n",
    "    plt.subplot(4, 4, i+1)\n",
    "    subclassnum = types[i]\n",
    "    sns.histplot(x='SalePrice', data=temp_train_df[temp_train_df.MSSubClass == subclassnum])\n",
    "    plt.title(subclassnum)\n",
    "    plt.xticks(ticks=(100000, 200000, 300000, 400000, 500000), labels=('1e5', '2e5', '3e5', '4e5', '5e5'))\n",
    "\n",
    "plt.subplots_adjust(hspace=0.5, wspace=0.25)\n",
    "plt.show()\n",
    "plt.clf()"
   ]
  },
  {
   "cell_type": "code",
   "execution_count": 754,
   "metadata": {},
   "outputs": [
    {
     "data": {
      "text/plain": [
       "1    2124\n",
       "3     398\n",
       "2     397\n",
       "Name: MSSubClassGroup, dtype: int64"
      ]
     },
     "execution_count": 754,
     "metadata": {},
     "output_type": "execute_result"
    }
   ],
   "source": [
    "MSMap = {20: 1, 50: 1, 60: 1, 120: 1, 150: 1, 70: 2, 75: 2, 80: 2, 160: 2, 30: 3, 40: 3, 45: 3, 85: 3, 90: 3, 180: 3, 190: 3}\n",
    "df['MSSubClassGroup'] = df['MSSubClass'].map(MSMap)\n",
    "df['MSSubClassGroup'].value_counts()"
   ]
  },
  {
   "cell_type": "code",
   "execution_count": 755,
   "metadata": {},
   "outputs": [
    {
     "data": {
      "text/plain": [
       "RL         2269\n",
       "RM          460\n",
       "FV          139\n",
       "RH           26\n",
       "C (all)      25\n",
       "Name: MSZoning, dtype: int64"
      ]
     },
     "execution_count": 755,
     "metadata": {},
     "output_type": "execute_result"
    }
   ],
   "source": [
    "df.MSZoning.fillna(df.MSZoning.mode()[0], inplace=True)\n",
    "df.MSZoning.value_counts()\n",
    "# unsure how to turn this into some useful feature "
   ]
  },
  {
   "cell_type": "code",
   "execution_count": 756,
   "metadata": {},
   "outputs": [
    {
     "data": {
      "image/png": "[encoded data removed]",
      "text/plain": [
       "<Figure size 432x288 with 2 Axes>"
      ]
     },
     "metadata": {
      "needs_background": "light"
     },
     "output_type": "display_data"
    },
    {
     "data": {
      "text/plain": [
       "<Figure size 432x288 with 0 Axes>"
      ]
     },
     "metadata": {},
     "output_type": "display_data"
    }
   ],
   "source": [
    "df.LotFrontage.fillna(0, inplace=True)\n",
    "df.LotArea.fillna(0, inplace=True)\n",
    "\n",
    "plt.subplot(1, 2, 1)\n",
    "plt.hist(df['LotFrontage'], bins=25)\n",
    "plt.title('Total Lot Frontage')\n",
    "plt.subplot(1, 2, 2)\n",
    "plt.hist(df['LotArea'], bins=25)\n",
    "plt.title('Total Lot Area')\n",
    "\n",
    "plt.show()\n",
    "plt.clf()"
   ]
  },
  {
   "cell_type": "markdown",
   "metadata": {},
   "source": [
    "Some big outliers for that ^ but generally larger area = more money, so probably useable with some finetuning - log scale"
   ]
  },
  {
   "cell_type": "code",
   "execution_count": 757,
   "metadata": {},
   "outputs": [
    {
     "name": "stdout",
     "output_type": "stream",
     "text": [
      "Wood deck area: 1396\n",
      "Open porch area: 1621\n",
      "Enclosed porch area: 459\n",
      "3 Season porch area: 37\n",
      "Screen porch area: 256\n"
     ]
    },
    {
     "data": {
      "image/png": "[encoded data removed]",
      "text/plain": [
       "<Figure size 432x288 with 3 Axes>"
      ]
     },
     "metadata": {
      "needs_background": "light"
     },
     "output_type": "display_data"
    },
    {
     "data": {
      "text/plain": [
       "<Figure size 432x288 with 0 Axes>"
      ]
     },
     "metadata": {},
     "output_type": "display_data"
    }
   ],
   "source": [
    "# assuming 0 = no porch of that type\n",
    "print(\"Wood deck area:\", (df['WoodDeckSF'] != 0).sum())\n",
    "print(\"Open porch area:\", (df['OpenPorchSF'] != 0).sum())\n",
    "print(\"Enclosed porch area:\", (df['EnclosedPorch'] != 0).sum())\n",
    "print(\"3 Season porch area:\",  (df['3SsnPorch'] != 0).sum())\n",
    "print(\"Screen porch area:\", (df['ScreenPorch'] != 0).sum())\n",
    "\n",
    "df['PorchArea'] = df['WoodDeckSF'] + df['OpenPorchSF'] + df['EnclosedPorch'] + df['3SsnPorch'] + df['ScreenPorch']\n",
    "# print(df.PorchArea)\n",
    "\n",
    "ax = plt.subplot(1, 2, 1)\n",
    "sns.histplot(df.PorchArea)\n",
    "plt.ylabel('Frequency')\n",
    "plt.title(\"Porch Area Distribution\")\n",
    "ax2 = plt.subplot(1, 2, 2)\n",
    "sns.histplot(x='PorchArea', y='SalePrice', data=df.head(1460), cbar=True, cbar_kws=dict(shrink=.75))\n",
    "plt.subplots_adjust(wspace=0.5)\n",
    "plt.title('Porch Area vs Sale Price')\n",
    "plt.show()\n",
    "plt.clf()"
   ]
  },
  {
   "cell_type": "markdown",
   "metadata": {},
   "source": [
    "There seems to be a positive correlation between cumulative porch area and sale price of the houses, so it is potentially a workable feature. \n",
    "\n",
    "Might want to weight the different types of porches - some might be more expensive, need research"
   ]
  },
  {
   "cell_type": "code",
   "execution_count": 758,
   "metadata": {},
   "outputs": [
    {
     "name": "stdout",
     "output_type": "stream",
     "text": [
      "Different pool area values\n",
      "[0, 144, 228, 368, 444, 480, 512, 519, 555, 561, 576, 648, 738, 800]\n",
      "2906\n"
     ]
    }
   ],
   "source": [
    "print(\"Different pool area values\")\n",
    "print(sorted(df.PoolArea.unique()))\n",
    "print((df['PoolArea'] == 0).sum())"
   ]
  },
  {
   "cell_type": "markdown",
   "metadata": {},
   "source": [
    "There are very few houses (13) in the dataset at all that have a pool. \n",
    "\n",
    "Could either make a hasPool feature or ignore completely (considering too little data to fit useful information, would overfit)"
   ]
  },
  {
   "cell_type": "code",
   "execution_count": 759,
   "metadata": {},
   "outputs": [
    {
     "data": {
      "text/plain": [
       "0    2906\n",
       "1      13\n",
       "Name: HasPool, dtype: int64"
      ]
     },
     "execution_count": 759,
     "metadata": {},
     "output_type": "execute_result"
    }
   ],
   "source": [
    "df['HasPool'] = df['PoolArea'].apply(lambda x: 1 if x > 0 else 0)\n",
    "df.HasPool.value_counts()"
   ]
  },
  {
   "cell_type": "code",
   "execution_count": 760,
   "metadata": {},
   "outputs": [
    {
     "data": {
      "image/png": "[encoded data removed]",
      "text/plain": [
       "<Figure size 432x288 with 4 Axes>"
      ]
     },
     "metadata": {
      "needs_background": "light"
     },
     "output_type": "display_data"
    },
    {
     "data": {
      "text/plain": [
       "<Figure size 432x288 with 0 Axes>"
      ]
     },
     "metadata": {},
     "output_type": "display_data"
    }
   ],
   "source": [
    "plt.subplot(2, 2, 1)\n",
    "plt.hist(df['1stFlrSF'])\n",
    "plt.subplot(2, 2, 2)\n",
    "plt.hist(df['2ndFlrSF'])\n",
    "plt.subplot(2, 2, 3)\n",
    "plt.hist(df['LowQualFinSF'])\n",
    "plt.subplot(2, 2, 4)\n",
    "plt.hist(df['GrLivArea'])\n",
    "plt.show()\n",
    "plt.clf()\n",
    "\n",
    "df[['1stFlrSF', '2ndFlrSF', 'LowQualFinSF', 'GrLivArea']].head()\n",
    "# 1stFlrSF and 2ndFlrSF just seem to add up to GrLivArea - only use GrLivArea\n",
    "# lower quality area counts less \n",
    "df['LivingArea'] = df['GrLivArea'] + 0.25*df['LowQualFinSF']"
   ]
  },
  {
   "cell_type": "code",
   "execution_count": 761,
   "metadata": {},
   "outputs": [
    {
     "data": {
      "text/plain": [
       "0    2816\n",
       "1     103\n",
       "Name: HasMisc, dtype: int64"
      ]
     },
     "execution_count": 761,
     "metadata": {},
     "output_type": "execute_result"
    }
   ],
   "source": [
    "# 103 rich people with a misc thing - i think better just to make a boolean\n",
    "# df.MiscVal[df.MiscVal != 0].count()\n",
    "df['HasMisc'] = df.MiscVal.apply(lambda x: 1 if x != 0 else 0)\n",
    "df.HasMisc.value_counts()"
   ]
  },
  {
   "cell_type": "code",
   "execution_count": 762,
   "metadata": {},
   "outputs": [],
   "source": [
    "areaCols = ['LotFrontage', 'LotArea', 'LivingArea', 'PorchArea', 'MasVnrArea', 'BsmtFinSF1', 'BsmtFinSF2', 'TotalBsmtSF', '1stFlrSF', '2ndFlrSF', 'LowQualFinSF', 'GrLivArea', 'GarageArea', 'WoodDeckSF', 'OpenPorchSF', 'EnclosedPorch', '3SsnPorch', 'ScreenPorch'\n",
    "]\n",
    "for col in areaCols:\n",
    "    df[col].fillna(df[col].median(), inplace=True)\n",
    "    df[col] = np.log10(df[col] + 1)"
   ]
  },
  {
   "cell_type": "code",
   "execution_count": 763,
   "metadata": {},
   "outputs": [
    {
     "name": "stdout",
     "output_type": "stream",
     "text": [
      "   BsmtFullBath  BsmtHalfBath  FullBath  HalfBath  BedroomAbvGr  KitchenAbvGr  \\\n",
      "0           1.0           0.0         2         1             3             1   \n",
      "1           0.0           1.0         2         0             3             1   \n",
      "2           1.0           0.0         2         1             3             1   \n",
      "3           1.0           0.0         1         0             3             1   \n",
      "4           1.0           0.0         2         1             4             1   \n",
      "\n",
      "   TotRmsAbvGrd  \n",
      "0             8  \n",
      "1             6  \n",
      "2             6  \n",
      "3             7  \n",
      "4             9  \n"
     ]
    }
   ],
   "source": [
    "print(df[['BsmtFullBath', 'BsmtHalfBath', 'FullBath', 'HalfBath', 'BedroomAbvGr', 'KitchenAbvGr', 'TotRmsAbvGrd']].head())\n",
    "df['TotAreasAbvGrd'] = df['FullBath'] + 0.5*df['HalfBath'] + df['KitchenAbvGr'] + df['TotRmsAbvGrd']"
   ]
  },
  {
   "cell_type": "code",
   "execution_count": 764,
   "metadata": {},
   "outputs": [
    {
     "data": {
      "text/plain": [
       "2.0    1595\n",
       "1.0     776\n",
       "3.0     391\n",
       "0.0     157\n",
       "Name: GarageCars, dtype: int64"
      ]
     },
     "execution_count": 764,
     "metadata": {},
     "output_type": "execute_result"
    }
   ],
   "source": [
    "df.GarageCars = df.GarageCars.map(lambda x: 3.0 if x == 5.0 or x == 4.0 else x)\n",
    "df['GarageCars'].fillna(df.GarageCars.mode()[0], inplace=True)\n",
    "df.GarageCars.value_counts()"
   ]
  },
  {
   "cell_type": "code",
   "execution_count": 765,
   "metadata": {},
   "outputs": [],
   "source": [
    "df['HouseAge'] = df['YrSold'] - df['YearBuilt']\n",
    "df['RemodelAge'] = df['YrSold'] - df['YearRemodAdd']"
   ]
  },
  {
   "cell_type": "code",
   "execution_count": 766,
   "metadata": {},
   "outputs": [
    {
     "data": {
      "text/plain": [
       "Unf    851\n",
       "GLQ    849\n",
       "ALQ    429\n",
       "Rec    288\n",
       "BLQ    269\n",
       "LwQ    154\n",
       "Name: BsmtFinType1, dtype: int64"
      ]
     },
     "execution_count": 766,
     "metadata": {},
     "output_type": "execute_result"
    }
   ],
   "source": [
    "qualityValues = {'Ex': 1, 'Gd': 2, 'TA': 3, 'Fa': 4, 'Po': 5, 'NA': 6}\n",
    "\n",
    "qualityCols = ['ExterQual', 'ExterCond', 'BsmtQual', 'BsmtCond', 'HeatingQC', 'KitchenQual', 'FireplaceQu', 'GarageQual', 'GarageCond']\n",
    "\n",
    "for col in qualityCols:\n",
    "    df[col] = df[col].map(qualityValues)\n",
    "    df[col].fillna(6, inplace=True)\n",
    "\n",
    "df.BsmtFinType1.value_counts()"
   ]
  },
  {
   "cell_type": "code",
   "execution_count": 767,
   "metadata": {},
   "outputs": [
    {
     "data": {
      "image/png": "[encoded data removed]",
      "text/plain": [
       "<Figure size 432x288 with 2 Axes>"
      ]
     },
     "metadata": {
      "needs_background": "light"
     },
     "output_type": "display_data"
    }
   ],
   "source": [
    "#bar or pie OverallQual & OverallCond\n",
    "plt.subplot(1, 2, 1)\n",
    "plt.bar(df['OverallQual'].unique(), df['OverallQual'].value_counts())\n",
    "plt.title('Overall Quality')\n",
    "plt.subplot(1, 2, 2)\n",
    "plt.bar(df['OverallCond'].unique(), df['OverallCond'].value_counts())\n",
    "plt.title('Overall Condition')\n",
    "plt.subplots_adjust(wspace=0.25)"
   ]
  },
  {
   "cell_type": "code",
   "execution_count": 768,
   "metadata": {},
   "outputs": [
    {
     "data": {
      "text/plain": [
       "1.0    2537\n",
       "2.0     239\n",
       "0.0     143\n",
       "Name: SaleType, dtype: int64"
      ]
     },
     "execution_count": 768,
     "metadata": {},
     "output_type": "execute_result"
    }
   ],
   "source": [
    "saleMap = {'COD': 0, 'ConLD': 0, 'ConLI': 0, 'ConLw': 0, 'Con': 0, 'Oth': 0, 'WD': 1, 'CWD': 1, 'New': 2}\n",
    "df['SaleType'] = df['SaleType'].map(saleMap)\n",
    "df['SaleType'].fillna(0, inplace=True)\n",
    "df['SaleType'].value_counts()"
   ]
  },
  {
   "cell_type": "code",
   "execution_count": 769,
   "metadata": {},
   "outputs": [
    {
     "data": {
      "text/plain": [
       "0    2402\n",
       "2     272\n",
       "1     245\n",
       "Name: SaleCondition, dtype: int64"
      ]
     },
     "execution_count": 769,
     "metadata": {},
     "output_type": "execute_result"
    }
   ],
   "source": [
    "df['SaleCondition'] = df['SaleCondition'].map({'Normal': 0, 'Abnorml': 2, 'AdjLand': 2, 'Alloca': 2, 'Family': 2, 'Partial': 1})\n",
    "df['SaleCondition'].value_counts()\n"
   ]
  },
  {
   "cell_type": "code",
   "execution_count": 770,
   "metadata": {},
   "outputs": [
    {
     "data": {
      "text/plain": [
       "0    2572\n",
       "1     347\n",
       "Name: Has2ndBsmt, dtype: int64"
      ]
     },
     "execution_count": 770,
     "metadata": {},
     "output_type": "execute_result"
    }
   ],
   "source": [
    "df['Has2ndBsmt'] = df['BsmtFinSF2'].apply(lambda x: 1 if x != 0 else 0)\n",
    "df.Has2ndBsmt.value_counts()"
   ]
  },
  {
   "cell_type": "code",
   "execution_count": 771,
   "metadata": {},
   "outputs": [
    {
     "data": {
      "text/plain": [
       "0    2787\n",
       "1     132\n",
       "Name: HasGravel, dtype: int64"
      ]
     },
     "execution_count": 771,
     "metadata": {},
     "output_type": "execute_result"
    }
   ],
   "source": [
    "df['HasGravel'] = df.apply(lambda row: 1 if row['Alley'] == 'Grvl' or row['Street'] == 'Grvl' else 0, axis=1)\n",
    "df.HasGravel.value_counts()"
   ]
  },
  {
   "cell_type": "code",
   "execution_count": 772,
   "metadata": {},
   "outputs": [
    {
     "data": {
      "text/plain": [
       "0    1859\n",
       "1     968\n",
       "2      92\n",
       "Name: LotShape, dtype: int64"
      ]
     },
     "execution_count": 772,
     "metadata": {},
     "output_type": "execute_result"
    }
   ],
   "source": [
    "df.LotShape = df.LotShape.map({'Reg': 0, 'IR3': 2, 'IR2': 2, 'IR1': 1})\n",
    "df.LotShape.value_counts()"
   ]
  },
  {
   "cell_type": "code",
   "execution_count": 773,
   "metadata": {},
   "outputs": [
    {
     "data": {
      "text/plain": [
       "2    2778\n",
       "1     125\n",
       "0      16\n",
       "Name: LandSlope, dtype: int64"
      ]
     },
     "execution_count": 773,
     "metadata": {},
     "output_type": "execute_result"
    }
   ],
   "source": [
    "df.LandSlope = df.LandSlope.map({'Sev': 0, 'Mod': 1, 'Gtl': 2})\n",
    "df.LandSlope.value_counts()"
   ]
  },
  {
   "cell_type": "code",
   "execution_count": 774,
   "metadata": {},
   "outputs": [
    {
     "data": {
      "text/plain": [
       "Normal      2511\n",
       "Road         256\n",
       "Railroad      93\n",
       "Positive      59\n",
       "Name: Condition1, dtype: int64"
      ]
     },
     "execution_count": 774,
     "metadata": {},
     "output_type": "execute_result"
    }
   ],
   "source": [
    "df.Condition1 = df.Condition1.map({'Norm': 'Normal', 'PosN': 'Positive', 'PosA': 'Positive', 'Feedr': 'Road', 'Artery': 'Road', 'RRAn': 'Railroad', 'RRAe': 'Railroad', 'RRNn': 'Railroad', 'RRNe': 'Railroad'})\n",
    "df.Condition1.value_counts()\n",
    "# add condition 2 stuff to make just one condition"
   ]
  },
  {
   "cell_type": "code",
   "execution_count": 775,
   "metadata": {},
   "outputs": [
    {
     "data": {
      "text/plain": [
       "1    1490\n",
       "2    1218\n",
       "3     211\n",
       "Name: HouseStyle, dtype: int64"
      ]
     },
     "execution_count": 775,
     "metadata": {},
     "output_type": "execute_result"
    }
   ],
   "source": [
    "df.HouseStyle = df.HouseStyle.map({'1Story': 1, '1.5Unf': 1, '1.5Fin': 2, '2Story': 2, '2.5Unf': 2, '2.5Fin': 2, 'SFoyer': 3, 'SLvl': 3})\n",
    "df.HouseStyle.value_counts()"
   ]
  },
  {
   "cell_type": "code",
   "execution_count": 776,
   "metadata": {},
   "outputs": [
    {
     "data": {
      "text/plain": [
       "Gable    2310\n",
       "Hip       551\n",
       "Other      58\n",
       "Name: RoofStyle, dtype: int64"
      ]
     },
     "execution_count": 776,
     "metadata": {},
     "output_type": "execute_result"
    }
   ],
   "source": [
    "df.RoofStyle = df.RoofStyle.apply(lambda x: 'Other' if x not in ['Gable', 'Hip'] else x)\n",
    "df.RoofStyle.value_counts()"
   ]
  },
  {
   "cell_type": "code",
   "execution_count": 777,
   "metadata": {},
   "outputs": [
    {
     "data": {
      "text/plain": [
       "VinylSd    1025\n",
       "MetalSd     450\n",
       "HdBoard     442\n",
       "Wd Sdng     411\n",
       "Other       244\n",
       "Plywood     221\n",
       "CemntBd     126\n",
       "Name: Exterior1st, dtype: int64"
      ]
     },
     "execution_count": 777,
     "metadata": {},
     "output_type": "execute_result"
    }
   ],
   "source": [
    "df.Exterior1st = df.Exterior1st.apply(lambda x: 'Other' if x not in ['VinylSd', 'MetalSd', 'HdBoard', 'Wd Sdng', 'Plywood', 'CemntBd'] else x)\n",
    "df.Exterior2nd = df.Exterior2nd.apply(lambda x: 'Other' if x not in ['VinylSd', 'MetalSd', 'HdBoard', 'Wd Sdng', 'Plywood', 'CemntBd'] else x)\n",
    "df.Exterior1st.value_counts()"
   ]
  },
  {
   "cell_type": "code",
   "execution_count": 778,
   "metadata": {},
   "outputs": [
    {
     "data": {
      "text/plain": [
       "None     1742\n",
       "Brk       904\n",
       "Stone     249\n",
       "Name: MasVnrType, dtype: int64"
      ]
     },
     "execution_count": 778,
     "metadata": {},
     "output_type": "execute_result"
    }
   ],
   "source": [
    "df.MasVnrType = df.MasVnrType.apply(lambda x: 'Brk' if 'Brk' in str(x) else x)\n",
    "df.MasVnrType.fillna('None')\n",
    "df.MasVnrType.value_counts()"
   ]
  },
  {
   "cell_type": "code",
   "execution_count": 779,
   "metadata": {},
   "outputs": [
    {
     "data": {
      "text/plain": [
       "PConc     1308\n",
       "CBlock    1235\n",
       "BrkTil     311\n",
       "Other       65\n",
       "Name: Foundation, dtype: int64"
      ]
     },
     "execution_count": 779,
     "metadata": {},
     "output_type": "execute_result"
    }
   ],
   "source": [
    "df.Foundation = df.Foundation.apply(lambda x: 'Other' if x in ['Slab', 'Stone', 'Wood'] else x)\n",
    "df.Foundation.value_counts()"
   ]
  },
  {
   "cell_type": "code",
   "execution_count": 780,
   "metadata": {},
   "outputs": [
    {
     "data": {
      "text/plain": [
       "5.0    930\n",
       "1.0    849\n",
       "2.0    717\n",
       "3.0    269\n",
       "4.0    154\n",
       "Name: BsmtFinType1, dtype: int64"
      ]
     },
     "execution_count": 780,
     "metadata": {},
     "output_type": "execute_result"
    }
   ],
   "source": [
    "bsmtValues = {'GLQ': 1, 'ALQ': 2, 'Rec': 2, 'BLQ': 3, 'LwQ': 4, 'Unf': 5, 'NA': 5}\n",
    "\n",
    "for col in ['BsmtFinType1', 'BsmtFinType2']:\n",
    "    df[col] = df[col].map(bsmtValues)\n",
    "    df[col].fillna(5, inplace=True)\n",
    "\n",
    "df.BsmtFinType1.value_counts()"
   ]
  },
  {
   "cell_type": "code",
   "execution_count": 781,
   "metadata": {},
   "outputs": [
    {
     "data": {
      "text/plain": [
       "1    2723\n",
       "0     196\n",
       "Name: CentralAir, dtype: int64"
      ]
     },
     "execution_count": 781,
     "metadata": {},
     "output_type": "execute_result"
    }
   ],
   "source": [
    "df.CentralAir = df.CentralAir.map({'Y': 1, 'N': 0})\n",
    "df.CentralAir.value_counts()"
   ]
  },
  {
   "cell_type": "code",
   "execution_count": 782,
   "metadata": {},
   "outputs": [
    {
     "data": {
      "text/plain": [
       "0.0    2672\n",
       "1.0     247\n",
       "Name: Electrical, dtype: int64"
      ]
     },
     "execution_count": 782,
     "metadata": {},
     "output_type": "execute_result"
    }
   ],
   "source": [
    "df.Electrical = df.Electrical.map({'SBrkr': 0, 'FuseA': 1, 'FuseF': 1, 'FuseP': 1, 'Mix': 1})\n",
    "df.Electrical.fillna(df.Electrical.mode()[0], inplace=True)\n",
    "df.Electrical.value_counts()"
   ]
  },
  {
   "cell_type": "code",
   "execution_count": 783,
   "metadata": {},
   "outputs": [],
   "source": [
    "df['BsmtBath'] = df['BsmtFullBath'] + df['BsmtHalfBath']*0.5\n",
    "df['BsmtBath'].fillna(0, inplace=True)\n",
    "df['Bathrooms'] = df['FullBath'] + df['HalfBath']*0.5"
   ]
  },
  {
   "cell_type": "code",
   "execution_count": 784,
   "metadata": {},
   "outputs": [
    {
     "data": {
      "text/plain": [
       "Attchd     1723\n",
       "Detchd      779\n",
       "InHouse     224\n",
       "None        157\n",
       "Basment      36\n",
       "Name: GarageType, dtype: int64"
      ]
     },
     "execution_count": 784,
     "metadata": {},
     "output_type": "execute_result"
    }
   ],
   "source": [
    "df.GarageType = df.GarageType.apply(lambda x: 'InHouse' if x in ['BuiltIn', 'CarPort', 'Basement', '2Types'] else x)\n",
    "df.GarageType.fillna('None', inplace=True)\n",
    "df.GarageType.value_counts()\n",
    "\n",
    "# do anything w/ GarageYrBlt??"
   ]
  },
  {
   "cell_type": "code",
   "execution_count": 785,
   "metadata": {},
   "outputs": [
    {
     "data": {
      "text/plain": [
       "Unf    1230\n",
       "RFn     811\n",
       "Fin     719\n",
       "NA      159\n",
       "Name: GarageFinish, dtype: int64"
      ]
     },
     "execution_count": 785,
     "metadata": {},
     "output_type": "execute_result"
    }
   ],
   "source": [
    "df.GarageFinish.fillna('NA', inplace=True)\n",
    "df.GarageFinish.value_counts()"
   ]
  },
  {
   "cell_type": "code",
   "execution_count": 786,
   "metadata": {},
   "outputs": [
    {
     "data": {
      "text/plain": [
       "1    2703\n",
       "0     216\n",
       "Name: PavedDrive, dtype: int64"
      ]
     },
     "execution_count": 786,
     "metadata": {},
     "output_type": "execute_result"
    }
   ],
   "source": [
    "df.PavedDrive = df.PavedDrive.apply(lambda x: 0 if x == 'N' else 1)\n",
    "df.PavedDrive.value_counts()"
   ]
  },
  {
   "cell_type": "code",
   "execution_count": 787,
   "metadata": {},
   "outputs": [
    {
     "data": {
      "text/plain": [
       "3.0    2348\n",
       "2.0     341\n",
       "1.0     230\n",
       "Name: FenceQual, dtype: int64"
      ]
     },
     "execution_count": 787,
     "metadata": {},
     "output_type": "execute_result"
    }
   ],
   "source": [
    "df['FenceQual'] = df['Fence'].map({'GdPrv': 1, 'GdWo': 1, 'MnPrv': 2, 'MnWw': 2})\n",
    "df['FenceQual'].fillna(3, inplace=True)\n",
    "df['HasFence'] = df['FenceQual'].apply(lambda x: 1 if x != 3 else 0)\n",
    "df.FenceQual.value_counts()"
   ]
  },
  {
   "cell_type": "code",
   "execution_count": 788,
   "metadata": {},
   "outputs": [
    {
     "data": {
      "text/html": [
       "<div>\n",
       "<style scoped>\n",
       "    .dataframe tbody tr th:only-of-type {\n",
       "        vertical-align: middle;\n",
       "    }\n",
       "\n",
       "    .dataframe tbody tr th {\n",
       "        vertical-align: top;\n",
       "    }\n",
       "\n",
       "    .dataframe thead th {\n",
       "        text-align: right;\n",
       "    }\n",
       "</style>\n",
       "<table border=\"1\" class=\"dataframe\">\n",
       "  <thead>\n",
       "    <tr style=\"text-align: right;\">\n",
       "      <th></th>\n",
       "      <th>Id</th>\n",
       "      <th>MSSubClass</th>\n",
       "      <th>MSZoning</th>\n",
       "      <th>LotFrontage</th>\n",
       "      <th>LotArea</th>\n",
       "      <th>Street</th>\n",
       "      <th>Alley</th>\n",
       "      <th>LotShape</th>\n",
       "      <th>Utilities</th>\n",
       "      <th>LandSlope</th>\n",
       "      <th>...</th>\n",
       "      <th>Foundation_PConc</th>\n",
       "      <th>GarageType_Attchd</th>\n",
       "      <th>GarageType_Basment</th>\n",
       "      <th>GarageType_Detchd</th>\n",
       "      <th>GarageType_InHouse</th>\n",
       "      <th>GarageType_None</th>\n",
       "      <th>GarageFinish_Fin</th>\n",
       "      <th>GarageFinish_NA</th>\n",
       "      <th>GarageFinish_RFn</th>\n",
       "      <th>GarageFinish_Unf</th>\n",
       "    </tr>\n",
       "  </thead>\n",
       "  <tbody>\n",
       "    <tr>\n",
       "      <th>0</th>\n",
       "      <td>1</td>\n",
       "      <td>60</td>\n",
       "      <td>RL</td>\n",
       "      <td>1.819544</td>\n",
       "      <td>3.926908</td>\n",
       "      <td>Pave</td>\n",
       "      <td>NaN</td>\n",
       "      <td>0</td>\n",
       "      <td>AllPub</td>\n",
       "      <td>2</td>\n",
       "      <td>...</td>\n",
       "      <td>1</td>\n",
       "      <td>1</td>\n",
       "      <td>0</td>\n",
       "      <td>0</td>\n",
       "      <td>0</td>\n",
       "      <td>0</td>\n",
       "      <td>0</td>\n",
       "      <td>0</td>\n",
       "      <td>1</td>\n",
       "      <td>0</td>\n",
       "    </tr>\n",
       "    <tr>\n",
       "      <th>1</th>\n",
       "      <td>2</td>\n",
       "      <td>20</td>\n",
       "      <td>RL</td>\n",
       "      <td>1.908485</td>\n",
       "      <td>3.982316</td>\n",
       "      <td>Pave</td>\n",
       "      <td>NaN</td>\n",
       "      <td>0</td>\n",
       "      <td>AllPub</td>\n",
       "      <td>2</td>\n",
       "      <td>...</td>\n",
       "      <td>0</td>\n",
       "      <td>1</td>\n",
       "      <td>0</td>\n",
       "      <td>0</td>\n",
       "      <td>0</td>\n",
       "      <td>0</td>\n",
       "      <td>0</td>\n",
       "      <td>0</td>\n",
       "      <td>1</td>\n",
       "      <td>0</td>\n",
       "    </tr>\n",
       "    <tr>\n",
       "      <th>2</th>\n",
       "      <td>3</td>\n",
       "      <td>60</td>\n",
       "      <td>RL</td>\n",
       "      <td>1.838849</td>\n",
       "      <td>4.051191</td>\n",
       "      <td>Pave</td>\n",
       "      <td>NaN</td>\n",
       "      <td>1</td>\n",
       "      <td>AllPub</td>\n",
       "      <td>2</td>\n",
       "      <td>...</td>\n",
       "      <td>1</td>\n",
       "      <td>1</td>\n",
       "      <td>0</td>\n",
       "      <td>0</td>\n",
       "      <td>0</td>\n",
       "      <td>0</td>\n",
       "      <td>0</td>\n",
       "      <td>0</td>\n",
       "      <td>1</td>\n",
       "      <td>0</td>\n",
       "    </tr>\n",
       "    <tr>\n",
       "      <th>3</th>\n",
       "      <td>4</td>\n",
       "      <td>70</td>\n",
       "      <td>RL</td>\n",
       "      <td>1.785330</td>\n",
       "      <td>3.980049</td>\n",
       "      <td>Pave</td>\n",
       "      <td>NaN</td>\n",
       "      <td>1</td>\n",
       "      <td>AllPub</td>\n",
       "      <td>2</td>\n",
       "      <td>...</td>\n",
       "      <td>0</td>\n",
       "      <td>0</td>\n",
       "      <td>0</td>\n",
       "      <td>1</td>\n",
       "      <td>0</td>\n",
       "      <td>0</td>\n",
       "      <td>0</td>\n",
       "      <td>0</td>\n",
       "      <td>0</td>\n",
       "      <td>1</td>\n",
       "    </tr>\n",
       "    <tr>\n",
       "      <th>4</th>\n",
       "      <td>5</td>\n",
       "      <td>60</td>\n",
       "      <td>RL</td>\n",
       "      <td>1.929419</td>\n",
       "      <td>4.154150</td>\n",
       "      <td>Pave</td>\n",
       "      <td>NaN</td>\n",
       "      <td>1</td>\n",
       "      <td>AllPub</td>\n",
       "      <td>2</td>\n",
       "      <td>...</td>\n",
       "      <td>1</td>\n",
       "      <td>1</td>\n",
       "      <td>0</td>\n",
       "      <td>0</td>\n",
       "      <td>0</td>\n",
       "      <td>0</td>\n",
       "      <td>0</td>\n",
       "      <td>0</td>\n",
       "      <td>1</td>\n",
       "      <td>0</td>\n",
       "    </tr>\n",
       "  </tbody>\n",
       "</table>\n",
       "<p>5 rows × 158 columns</p>\n",
       "</div>"
      ],
      "text/plain": [
       "   Id  MSSubClass MSZoning  LotFrontage   LotArea Street Alley  LotShape  \\\n",
       "0   1          60       RL     1.819544  3.926908   Pave   NaN         0   \n",
       "1   2          20       RL     1.908485  3.982316   Pave   NaN         0   \n",
       "2   3          60       RL     1.838849  4.051191   Pave   NaN         1   \n",
       "3   4          70       RL     1.785330  3.980049   Pave   NaN         1   \n",
       "4   5          60       RL     1.929419  4.154150   Pave   NaN         1   \n",
       "\n",
       "  Utilities  LandSlope  ... Foundation_PConc  GarageType_Attchd  \\\n",
       "0    AllPub          2  ...                1                  1   \n",
       "1    AllPub          2  ...                0                  1   \n",
       "2    AllPub          2  ...                1                  1   \n",
       "3    AllPub          2  ...                0                  0   \n",
       "4    AllPub          2  ...                1                  1   \n",
       "\n",
       "   GarageType_Basment  GarageType_Detchd  GarageType_InHouse  GarageType_None  \\\n",
       "0                   0                  0                   0                0   \n",
       "1                   0                  0                   0                0   \n",
       "2                   0                  0                   0                0   \n",
       "3                   0                  1                   0                0   \n",
       "4                   0                  0                   0                0   \n",
       "\n",
       "  GarageFinish_Fin  GarageFinish_NA  GarageFinish_RFn  GarageFinish_Unf  \n",
       "0                0                0                 1                 0  \n",
       "1                0                0                 1                 0  \n",
       "2                0                0                 1                 0  \n",
       "3                0                0                 0                 1  \n",
       "4                0                0                 1                 0  \n",
       "\n",
       "[5 rows x 158 columns]"
      ]
     },
     "execution_count": 788,
     "metadata": {},
     "output_type": "execute_result"
    }
   ],
   "source": [
    "get_dummies_cols = ['LandContour', 'LotConfig', 'Neighborhood', 'Condition1', 'BldgType', 'RoofStyle', 'Exterior1st', 'Exterior2nd', 'MasVnrType', 'Foundation', 'GarageType', 'GarageFinish']\n",
    "df_dummies = pd.get_dummies(df, columns=get_dummies_cols)\n",
    "df_dummies.head()"
   ]
  },
  {
   "cell_type": "code",
   "execution_count": 789,
   "metadata": {},
   "outputs": [],
   "source": [
    "features = ['MSSubClassGroup', 'HasMisc', 'TotAreasAbvGrd', 'GarageCars', 'HouseAge', 'RemodelAge', 'YrSold', 'MoSold', 'OverallCond', 'OverallQual', 'SaleType', 'SaleCondition', 'Has2ndBsmt', 'HasPool', 'HasGravel', 'LotShape', 'LandSlope', 'HouseStyle', 'BsmtFinType1', 'BsmtFinType2', 'Electrical', 'BsmtBath', 'Bathrooms', 'BedroomAbvGr', 'KitchenAbvGr', 'TotRmsAbvGrd', 'PavedDrive', 'FenceQual', 'HasFence']\n",
    "features += areaCols + qualityCols + get_dummies_cols\n",
    "\n",
    "# features"
   ]
  },
  {
   "cell_type": "code",
   "execution_count": 790,
   "metadata": {},
   "outputs": [
    {
     "data": {
      "text/plain": [
       "68"
      ]
     },
     "execution_count": 790,
     "metadata": {},
     "output_type": "execute_result"
    }
   ],
   "source": [
    "len(features)"
   ]
  },
  {
   "cell_type": "code",
   "execution_count": 791,
   "metadata": {},
   "outputs": [],
   "source": [
    "train = df.iloc[:1460,:]\n",
    "test = df.iloc[1460:, :]\n",
    "\n",
    "X_train = train[features]\n",
    "y_train = train['SalePrice']\n",
    "X_test = test[features]"
   ]
  },
  {
   "cell_type": "code",
   "execution_count": 792,
   "metadata": {},
   "outputs": [],
   "source": [
    "X_train = pd.get_dummies(X_train, columns=get_dummies_cols)\n",
    "X_test = pd.get_dummies(X_test, columns=get_dummies_cols)\n"
   ]
  },
  {
   "cell_type": "code",
   "execution_count": 793,
   "metadata": {},
   "outputs": [
    {
     "data": {
      "text/html": [
       "<div>\n",
       "<style scoped>\n",
       "    .dataframe tbody tr th:only-of-type {\n",
       "        vertical-align: middle;\n",
       "    }\n",
       "\n",
       "    .dataframe tbody tr th {\n",
       "        vertical-align: top;\n",
       "    }\n",
       "\n",
       "    .dataframe thead th {\n",
       "        text-align: right;\n",
       "    }\n",
       "</style>\n",
       "<table border=\"1\" class=\"dataframe\">\n",
       "  <thead>\n",
       "    <tr style=\"text-align: right;\">\n",
       "      <th></th>\n",
       "      <th>MSSubClassGroup</th>\n",
       "      <th>HasMisc</th>\n",
       "      <th>TotAreasAbvGrd</th>\n",
       "      <th>GarageCars</th>\n",
       "      <th>HouseAge</th>\n",
       "      <th>RemodelAge</th>\n",
       "      <th>YrSold</th>\n",
       "      <th>MoSold</th>\n",
       "      <th>OverallCond</th>\n",
       "      <th>OverallQual</th>\n",
       "      <th>...</th>\n",
       "      <th>Foundation_PConc</th>\n",
       "      <th>GarageType_Attchd</th>\n",
       "      <th>GarageType_Basment</th>\n",
       "      <th>GarageType_Detchd</th>\n",
       "      <th>GarageType_InHouse</th>\n",
       "      <th>GarageType_None</th>\n",
       "      <th>GarageFinish_Fin</th>\n",
       "      <th>GarageFinish_NA</th>\n",
       "      <th>GarageFinish_RFn</th>\n",
       "      <th>GarageFinish_Unf</th>\n",
       "    </tr>\n",
       "  </thead>\n",
       "  <tbody>\n",
       "    <tr>\n",
       "      <th>0</th>\n",
       "      <td>1</td>\n",
       "      <td>0</td>\n",
       "      <td>11.5</td>\n",
       "      <td>2.0</td>\n",
       "      <td>5</td>\n",
       "      <td>5</td>\n",
       "      <td>2008</td>\n",
       "      <td>2</td>\n",
       "      <td>5</td>\n",
       "      <td>7</td>\n",
       "      <td>...</td>\n",
       "      <td>1</td>\n",
       "      <td>1</td>\n",
       "      <td>0</td>\n",
       "      <td>0</td>\n",
       "      <td>0</td>\n",
       "      <td>0</td>\n",
       "      <td>0</td>\n",
       "      <td>0</td>\n",
       "      <td>1</td>\n",
       "      <td>0</td>\n",
       "    </tr>\n",
       "    <tr>\n",
       "      <th>1</th>\n",
       "      <td>1</td>\n",
       "      <td>0</td>\n",
       "      <td>9.0</td>\n",
       "      <td>2.0</td>\n",
       "      <td>31</td>\n",
       "      <td>31</td>\n",
       "      <td>2007</td>\n",
       "      <td>5</td>\n",
       "      <td>8</td>\n",
       "      <td>6</td>\n",
       "      <td>...</td>\n",
       "      <td>0</td>\n",
       "      <td>1</td>\n",
       "      <td>0</td>\n",
       "      <td>0</td>\n",
       "      <td>0</td>\n",
       "      <td>0</td>\n",
       "      <td>0</td>\n",
       "      <td>0</td>\n",
       "      <td>1</td>\n",
       "      <td>0</td>\n",
       "    </tr>\n",
       "    <tr>\n",
       "      <th>2</th>\n",
       "      <td>1</td>\n",
       "      <td>0</td>\n",
       "      <td>9.5</td>\n",
       "      <td>2.0</td>\n",
       "      <td>7</td>\n",
       "      <td>6</td>\n",
       "      <td>2008</td>\n",
       "      <td>9</td>\n",
       "      <td>5</td>\n",
       "      <td>7</td>\n",
       "      <td>...</td>\n",
       "      <td>1</td>\n",
       "      <td>1</td>\n",
       "      <td>0</td>\n",
       "      <td>0</td>\n",
       "      <td>0</td>\n",
       "      <td>0</td>\n",
       "      <td>0</td>\n",
       "      <td>0</td>\n",
       "      <td>1</td>\n",
       "      <td>0</td>\n",
       "    </tr>\n",
       "    <tr>\n",
       "      <th>3</th>\n",
       "      <td>2</td>\n",
       "      <td>0</td>\n",
       "      <td>9.0</td>\n",
       "      <td>3.0</td>\n",
       "      <td>91</td>\n",
       "      <td>36</td>\n",
       "      <td>2006</td>\n",
       "      <td>2</td>\n",
       "      <td>5</td>\n",
       "      <td>7</td>\n",
       "      <td>...</td>\n",
       "      <td>0</td>\n",
       "      <td>0</td>\n",
       "      <td>0</td>\n",
       "      <td>1</td>\n",
       "      <td>0</td>\n",
       "      <td>0</td>\n",
       "      <td>0</td>\n",
       "      <td>0</td>\n",
       "      <td>0</td>\n",
       "      <td>1</td>\n",
       "    </tr>\n",
       "    <tr>\n",
       "      <th>4</th>\n",
       "      <td>1</td>\n",
       "      <td>0</td>\n",
       "      <td>12.5</td>\n",
       "      <td>3.0</td>\n",
       "      <td>8</td>\n",
       "      <td>8</td>\n",
       "      <td>2008</td>\n",
       "      <td>12</td>\n",
       "      <td>5</td>\n",
       "      <td>8</td>\n",
       "      <td>...</td>\n",
       "      <td>1</td>\n",
       "      <td>1</td>\n",
       "      <td>0</td>\n",
       "      <td>0</td>\n",
       "      <td>0</td>\n",
       "      <td>0</td>\n",
       "      <td>0</td>\n",
       "      <td>0</td>\n",
       "      <td>1</td>\n",
       "      <td>0</td>\n",
       "    </tr>\n",
       "  </tbody>\n",
       "</table>\n",
       "<p>5 rows × 131 columns</p>\n",
       "</div>"
      ],
      "text/plain": [
       "   MSSubClassGroup  HasMisc  TotAreasAbvGrd  GarageCars  HouseAge  RemodelAge  \\\n",
       "0                1        0            11.5         2.0         5           5   \n",
       "1                1        0             9.0         2.0        31          31   \n",
       "2                1        0             9.5         2.0         7           6   \n",
       "3                2        0             9.0         3.0        91          36   \n",
       "4                1        0            12.5         3.0         8           8   \n",
       "\n",
       "   YrSold  MoSold  OverallCond  OverallQual  ...  Foundation_PConc  \\\n",
       "0    2008       2            5            7  ...                 1   \n",
       "1    2007       5            8            6  ...                 0   \n",
       "2    2008       9            5            7  ...                 1   \n",
       "3    2006       2            5            7  ...                 0   \n",
       "4    2008      12            5            8  ...                 1   \n",
       "\n",
       "   GarageType_Attchd  GarageType_Basment  GarageType_Detchd  \\\n",
       "0                  1                   0                  0   \n",
       "1                  1                   0                  0   \n",
       "2                  1                   0                  0   \n",
       "3                  0                   0                  1   \n",
       "4                  1                   0                  0   \n",
       "\n",
       "   GarageType_InHouse  GarageType_None  GarageFinish_Fin  GarageFinish_NA  \\\n",
       "0                   0                0                 0                0   \n",
       "1                   0                0                 0                0   \n",
       "2                   0                0                 0                0   \n",
       "3                   0                0                 0                0   \n",
       "4                   0                0                 0                0   \n",
       "\n",
       "   GarageFinish_RFn  GarageFinish_Unf  \n",
       "0                 1                 0  \n",
       "1                 1                 0  \n",
       "2                 1                 0  \n",
       "3                 0                 1  \n",
       "4                 1                 0  \n",
       "\n",
       "[5 rows x 131 columns]"
      ]
     },
     "execution_count": 793,
     "metadata": {},
     "output_type": "execute_result"
    }
   ],
   "source": [
    "X_train.head()"
   ]
  },
  {
   "cell_type": "code",
   "execution_count": 794,
   "metadata": {},
   "outputs": [
    {
     "data": {
      "text/plain": [
       "68"
      ]
     },
     "execution_count": 794,
     "metadata": {},
     "output_type": "execute_result"
    }
   ],
   "source": [
    "len(features)"
   ]
  },
  {
   "cell_type": "code",
   "execution_count": 795,
   "metadata": {},
   "outputs": [
    {
     "data": {
      "text/plain": [
       "SelectKBest(k=80, score_func=<function f_regression at 0x00000191B9105940>)"
      ]
     },
     "execution_count": 795,
     "metadata": {},
     "output_type": "execute_result"
    }
   ],
   "source": [
    "kbest = SelectKBest(score_func = f_regression, k = 80)\n",
    "kbest.fit(X_train, y_train)"
   ]
  },
  {
   "cell_type": "code",
   "execution_count": 796,
   "metadata": {},
   "outputs": [
    {
     "data": {
      "text/plain": [
       "array(['MSSubClassGroup', 'TotAreasAbvGrd', 'GarageCars', 'HouseAge',\n",
       "       'RemodelAge', 'OverallQual', 'SaleType', 'HasGravel', 'LotShape',\n",
       "       'BsmtFinType1', 'Electrical', 'BsmtBath', 'Bathrooms',\n",
       "       'BedroomAbvGr', 'KitchenAbvGr', 'TotRmsAbvGrd', 'PavedDrive',\n",
       "       'FenceQual', 'HasFence', 'LotArea', 'LivingArea', 'PorchArea',\n",
       "       'MasVnrArea', 'BsmtFinSF1', 'TotalBsmtSF', '1stFlrSF', '2ndFlrSF',\n",
       "       'GrLivArea', 'GarageArea', 'WoodDeckSF', 'OpenPorchSF',\n",
       "       'EnclosedPorch', 'ExterQual', 'BsmtQual', 'BsmtCond', 'HeatingQC',\n",
       "       'KitchenQual', 'FireplaceQu', 'GarageQual', 'GarageCond',\n",
       "       'LandContour_HLS', 'LotConfig_CulDSac', 'Neighborhood_BrkSide',\n",
       "       'Neighborhood_Edwards', 'Neighborhood_IDOTRR',\n",
       "       'Neighborhood_NAmes', 'Neighborhood_NoRidge',\n",
       "       'Neighborhood_NridgHt', 'Neighborhood_OldTown',\n",
       "       'Neighborhood_Sawyer', 'Neighborhood_Somerst',\n",
       "       'Neighborhood_StoneBr', 'Neighborhood_Timber', 'Condition1_Normal',\n",
       "       'Condition1_Road', 'BldgType_1Fam', 'BldgType_Duplex',\n",
       "       'RoofStyle_Gable', 'RoofStyle_Hip', 'Exterior1st_CemntBd',\n",
       "       'Exterior1st_MetalSd', 'Exterior1st_VinylSd',\n",
       "       'Exterior1st_Wd Sdng', 'Exterior2nd_MetalSd',\n",
       "       'Exterior2nd_VinylSd', 'Exterior2nd_Wd Sdng', 'MasVnrType_Brk',\n",
       "       'MasVnrType_None', 'MasVnrType_Stone', 'Foundation_BrkTil',\n",
       "       'Foundation_CBlock', 'Foundation_PConc', 'GarageType_Attchd',\n",
       "       'GarageType_Detchd', 'GarageType_InHouse', 'GarageType_None',\n",
       "       'GarageFinish_Fin', 'GarageFinish_NA', 'GarageFinish_RFn',\n",
       "       'GarageFinish_Unf'], dtype=object)"
      ]
     },
     "execution_count": 796,
     "metadata": {},
     "output_type": "execute_result"
    }
   ],
   "source": [
    "kbest.get_feature_names_out(X_train.columns)"
   ]
  },
  {
   "cell_type": "code",
   "execution_count": 797,
   "metadata": {},
   "outputs": [],
   "source": [
    "X_train_fs = kbest.transform(X_train)\n",
    "X_test_fs = kbest.transform(X_test)\n",
    "mask = kbest.get_support()\n",
    "new_features = X_train.columns[mask]\n",
    "X_train_fs = pd.DataFrame(X_train_fs, columns = new_features)\n",
    "X_test_fs = pd.DataFrame(X_test_fs, columns = new_features)"
   ]
  },
  {
   "cell_type": "code",
   "execution_count": 805,
   "metadata": {},
   "outputs": [
    {
     "name": "stdout",
     "output_type": "stream",
     "text": [
      "TotalBsmtSF 216\n",
      "LivingArea 215\n",
      "LotArea 214\n",
      "1stFlrSF 173\n",
      "BsmtFinSF1 157\n",
      "GarageArea 154\n",
      "HouseAge 113\n",
      "PorchArea 111\n",
      "MasVnrArea 109\n",
      "OpenPorchSF 97\n",
      "RemodelAge 92\n",
      "TotAreasAbvGrd 87\n",
      "LotFrontage 87\n",
      "OverallQual 86\n",
      "2ndFlrSF 71\n",
      "OverallCond 69\n",
      "WoodDeckSF 60\n",
      "MoSold 58\n",
      "GrLivArea 46\n",
      "YrSold 44\n",
      "FireplaceQu 36\n",
      "GarageCars 34\n",
      "SaleCondition 32\n",
      "BsmtFinType1 27\n",
      "BsmtBath 26\n",
      "KitchenQual 26\n",
      "Bathrooms 24\n",
      "BsmtQual 22\n",
      "Neighborhood_Crawfor 21\n",
      "LotShape 19\n",
      "EnclosedPorch 19\n",
      "TotRmsAbvGrd 18\n",
      "ScreenPorch 18\n",
      "ExterQual 16\n",
      "HeatingQC 15\n",
      "Neighborhood_Somerst 15\n",
      "BedroomAbvGr 14\n",
      "Neighborhood_NoRidge 12\n",
      "Neighborhood_BrkSide 11\n",
      "Neighborhood_StoneBr 11\n",
      "MasVnrType_Brk 11\n",
      "SaleType 10\n",
      "FenceQual 10\n",
      "Neighborhood_Edwards 10\n",
      "Condition1_Road 10\n",
      "GarageType_Detchd 10\n",
      "MSSubClassGroup 9\n",
      "BsmtCond 9\n",
      "Neighborhood_OldTown 9\n",
      "LandSlope 8\n",
      "HouseStyle 8\n",
      "BsmtFinSF2 8\n",
      "LowQualFinSF 8\n",
      "Exterior1st_HdBoard 8\n",
      "Exterior1st_Other 8\n",
      "GarageFinish_RFn 8\n",
      "GarageFinish_Unf 8\n",
      "GarageCond 7\n",
      "Condition1_Normal 7\n",
      "Exterior1st_Wd Sdng 7\n",
      "Electrical 6\n",
      "KitchenAbvGr 6\n",
      "LandContour_HLS 6\n",
      "LandContour_Lvl 6\n",
      "LotConfig_Inside 6\n",
      "Neighborhood_NAmes 6\n",
      "RoofStyle_Gable 6\n",
      "Exterior1st_VinylSd 6\n",
      "LotConfig_CulDSac 5\n",
      "LotConfig_FR2 5\n",
      "Exterior2nd_Other 5\n",
      "MasVnrType_Stone 5\n",
      "Foundation_BrkTil 5\n",
      "GarageType_Attchd 5\n",
      "GarageFinish_Fin 5\n",
      "GarageQual 4\n",
      "Neighborhood_NridgHt 4\n",
      "BldgType_1Fam 4\n",
      "Exterior1st_MetalSd 4\n",
      "Exterior1st_Plywood 4\n",
      "HasGravel 3\n",
      "PavedDrive 3\n",
      "3SsnPorch 3\n",
      "LotConfig_Corner 3\n",
      "Neighborhood_ClearCr 3\n",
      "RoofStyle_Other 3\n",
      "Foundation_PConc 3\n",
      "ExterCond 2\n",
      "LandContour_Bnk 2\n",
      "Neighborhood_CollgCr 2\n",
      "Neighborhood_IDOTRR 2\n",
      "Neighborhood_Mitchel 2\n",
      "Neighborhood_Timber 2\n",
      "Condition1_Positive 2\n",
      "Condition1_Railroad 2\n",
      "RoofStyle_Hip 2\n",
      "Exterior2nd_MetalSd 2\n",
      "Exterior2nd_Plywood 2\n",
      "LandContour_Low 1\n",
      "Neighborhood_Sawyer 1\n",
      "BldgType_Duplex 1\n",
      "Exterior1st_CemntBd 1\n",
      "Exterior2nd_HdBoard 1\n",
      "Foundation_CBlock 1\n",
      "HasMisc 0\n",
      "Has2ndBsmt 0\n",
      "HasPool 0\n",
      "BsmtFinType2 0\n",
      "HasFence 0\n",
      "LotConfig_FR3 0\n",
      "Neighborhood_Blmngtn 0\n",
      "Neighborhood_Blueste 0\n",
      "Neighborhood_BrDale 0\n",
      "Neighborhood_Gilbert 0\n",
      "Neighborhood_MeadowV 0\n",
      "Neighborhood_NPkVill 0\n",
      "Neighborhood_NWAmes 0\n",
      "Neighborhood_SWISU 0\n",
      "Neighborhood_SawyerW 0\n",
      "Neighborhood_Veenker 0\n",
      "BldgType_2fmCon 0\n",
      "BldgType_Twnhs 0\n",
      "BldgType_TwnhsE 0\n",
      "Exterior2nd_VinylSd 0\n",
      "Exterior2nd_Wd Sdng 0\n",
      "MasVnrType_None 0\n",
      "Foundation_Other 0\n",
      "GarageType_Basment 0\n",
      "GarageType_InHouse 0\n",
      "GarageType_None 0\n",
      "GarageFinish_NA 0\n"
     ]
    }
   ],
   "source": [
    "feat_imp = list(zip(X_train.columns, clf.feature_importances_))\n",
    "s_feat_imp = sorted(feat_imp, key = lambda x: x[1], reverse = True)\n",
    "i = 0\n",
    "figood = []\n",
    "for (feat, imp) in s_feat_imp:\n",
    "    if i < 80:\n",
    "        figood.append(feat)\n",
    "    print(feat, imp)\n",
    "    i += 1"
   ]
  },
  {
   "cell_type": "code",
   "execution_count": 799,
   "metadata": {},
   "outputs": [
    {
     "name": "stdout",
     "output_type": "stream",
     "text": [
      "HasGravel\n",
      "PavedDrive\n",
      "HasFence\n",
      "Neighborhood_IDOTRR\n",
      "Neighborhood_Sawyer\n",
      "Neighborhood_Timber\n",
      "BldgType_Duplex\n",
      "RoofStyle_Hip\n",
      "Exterior1st_CemntBd\n",
      "Exterior2nd_MetalSd\n",
      "Exterior2nd_VinylSd\n",
      "Exterior2nd_Wd Sdng\n",
      "MasVnrType_None\n",
      "Foundation_CBlock\n",
      "Foundation_PConc\n",
      "GarageType_InHouse\n",
      "GarageType_None\n",
      "GarageFinish_NA\n"
     ]
    }
   ],
   "source": [
    "# 1 am code at its finest\n",
    "kbestcols = X_train_fs.columns\n",
    "ficols = figood\n",
    "# print(kbestcols)\n",
    "# print(ficols)\n",
    "for i in kbestcols:\n",
    "    if i not in ficols:\n",
    "        print(i)"
   ]
  },
  {
   "cell_type": "code",
   "execution_count": 800,
   "metadata": {},
   "outputs": [],
   "source": [
    "cols_to_keep = ['LotArea', 'LivingArea', 'TotalBsmtSF', 'BsmtFinSF1', 'GarageArea', '1stFlrSF', 'HouseAge', 'PorchArea', 'MasVnrArea', 'LotFrontage', 'TotAreasAbvGrd', 'RemodelAge', '2ndFlrSF', 'OverallCond', 'OverallQual', 'GrLivArea', 'FireplaceQu', 'GarageCars', 'KitchenQual', 'BsmtQual', 'HeatingQC', 'ExterQual', 'MSSubClassGroup', 'MoSold', 'YrSold', 'SaleType', 'BsmtCond', 'GarageQual', 'GarageCond']\n",
    "X_train_final = X_train[cols_to_keep]\n",
    "X_test_final = X_test[cols_to_keep]"
   ]
  },
  {
   "cell_type": "code",
   "execution_count": 801,
   "metadata": {},
   "outputs": [
    {
     "data": {
      "text/html": [
       "<div>\n",
       "<style scoped>\n",
       "    .dataframe tbody tr th:only-of-type {\n",
       "        vertical-align: middle;\n",
       "    }\n",
       "\n",
       "    .dataframe tbody tr th {\n",
       "        vertical-align: top;\n",
       "    }\n",
       "\n",
       "    .dataframe thead th {\n",
       "        text-align: right;\n",
       "    }\n",
       "</style>\n",
       "<table border=\"1\" class=\"dataframe\">\n",
       "  <thead>\n",
       "    <tr style=\"text-align: right;\">\n",
       "      <th></th>\n",
       "      <th>LotArea</th>\n",
       "      <th>LivingArea</th>\n",
       "      <th>TotalBsmtSF</th>\n",
       "      <th>BsmtFinSF1</th>\n",
       "      <th>GarageArea</th>\n",
       "      <th>1stFlrSF</th>\n",
       "      <th>HouseAge</th>\n",
       "      <th>PorchArea</th>\n",
       "      <th>MasVnrArea</th>\n",
       "      <th>LotFrontage</th>\n",
       "      <th>...</th>\n",
       "      <th>BsmtQual</th>\n",
       "      <th>HeatingQC</th>\n",
       "      <th>ExterQual</th>\n",
       "      <th>MSSubClassGroup</th>\n",
       "      <th>MoSold</th>\n",
       "      <th>YrSold</th>\n",
       "      <th>SaleType</th>\n",
       "      <th>BsmtCond</th>\n",
       "      <th>GarageQual</th>\n",
       "      <th>GarageCond</th>\n",
       "    </tr>\n",
       "  </thead>\n",
       "  <tbody>\n",
       "    <tr>\n",
       "      <th>0</th>\n",
       "      <td>3.926908</td>\n",
       "      <td>3.233250</td>\n",
       "      <td>2.932981</td>\n",
       "      <td>2.849419</td>\n",
       "      <td>2.739572</td>\n",
       "      <td>2.932981</td>\n",
       "      <td>5</td>\n",
       "      <td>1.792392</td>\n",
       "      <td>2.294466</td>\n",
       "      <td>1.819544</td>\n",
       "      <td>...</td>\n",
       "      <td>2.0</td>\n",
       "      <td>1</td>\n",
       "      <td>2</td>\n",
       "      <td>1</td>\n",
       "      <td>2</td>\n",
       "      <td>2008</td>\n",
       "      <td>1.0</td>\n",
       "      <td>3.0</td>\n",
       "      <td>3.0</td>\n",
       "      <td>3.0</td>\n",
       "    </tr>\n",
       "    <tr>\n",
       "      <th>1</th>\n",
       "      <td>3.982316</td>\n",
       "      <td>3.101403</td>\n",
       "      <td>3.101403</td>\n",
       "      <td>2.990783</td>\n",
       "      <td>2.663701</td>\n",
       "      <td>3.101403</td>\n",
       "      <td>31</td>\n",
       "      <td>2.475671</td>\n",
       "      <td>0.000000</td>\n",
       "      <td>1.908485</td>\n",
       "      <td>...</td>\n",
       "      <td>2.0</td>\n",
       "      <td>1</td>\n",
       "      <td>3</td>\n",
       "      <td>1</td>\n",
       "      <td>5</td>\n",
       "      <td>2007</td>\n",
       "      <td>1.0</td>\n",
       "      <td>3.0</td>\n",
       "      <td>3.0</td>\n",
       "      <td>3.0</td>\n",
       "    </tr>\n",
       "    <tr>\n",
       "      <th>2</th>\n",
       "      <td>4.051191</td>\n",
       "      <td>3.252125</td>\n",
       "      <td>2.964260</td>\n",
       "      <td>2.687529</td>\n",
       "      <td>2.784617</td>\n",
       "      <td>2.964260</td>\n",
       "      <td>7</td>\n",
       "      <td>1.633468</td>\n",
       "      <td>2.212188</td>\n",
       "      <td>1.838849</td>\n",
       "      <td>...</td>\n",
       "      <td>2.0</td>\n",
       "      <td>1</td>\n",
       "      <td>2</td>\n",
       "      <td>1</td>\n",
       "      <td>9</td>\n",
       "      <td>2008</td>\n",
       "      <td>1.0</td>\n",
       "      <td>3.0</td>\n",
       "      <td>3.0</td>\n",
       "      <td>3.0</td>\n",
       "    </tr>\n",
       "    <tr>\n",
       "      <th>3</th>\n",
       "      <td>3.980049</td>\n",
       "      <td>3.235023</td>\n",
       "      <td>2.879096</td>\n",
       "      <td>2.336460</td>\n",
       "      <td>2.808211</td>\n",
       "      <td>2.983175</td>\n",
       "      <td>91</td>\n",
       "      <td>2.488551</td>\n",
       "      <td>0.000000</td>\n",
       "      <td>1.785330</td>\n",
       "      <td>...</td>\n",
       "      <td>3.0</td>\n",
       "      <td>2</td>\n",
       "      <td>3</td>\n",
       "      <td>2</td>\n",
       "      <td>2</td>\n",
       "      <td>2006</td>\n",
       "      <td>1.0</td>\n",
       "      <td>2.0</td>\n",
       "      <td>3.0</td>\n",
       "      <td>3.0</td>\n",
       "    </tr>\n",
       "    <tr>\n",
       "      <th>4</th>\n",
       "      <td>4.154150</td>\n",
       "      <td>3.342225</td>\n",
       "      <td>3.059185</td>\n",
       "      <td>2.816904</td>\n",
       "      <td>2.922725</td>\n",
       "      <td>3.059185</td>\n",
       "      <td>8</td>\n",
       "      <td>2.442480</td>\n",
       "      <td>2.545307</td>\n",
       "      <td>1.929419</td>\n",
       "      <td>...</td>\n",
       "      <td>2.0</td>\n",
       "      <td>1</td>\n",
       "      <td>2</td>\n",
       "      <td>1</td>\n",
       "      <td>12</td>\n",
       "      <td>2008</td>\n",
       "      <td>1.0</td>\n",
       "      <td>3.0</td>\n",
       "      <td>3.0</td>\n",
       "      <td>3.0</td>\n",
       "    </tr>\n",
       "    <tr>\n",
       "      <th>...</th>\n",
       "      <td>...</td>\n",
       "      <td>...</td>\n",
       "      <td>...</td>\n",
       "      <td>...</td>\n",
       "      <td>...</td>\n",
       "      <td>...</td>\n",
       "      <td>...</td>\n",
       "      <td>...</td>\n",
       "      <td>...</td>\n",
       "      <td>...</td>\n",
       "      <td>...</td>\n",
       "      <td>...</td>\n",
       "      <td>...</td>\n",
       "      <td>...</td>\n",
       "      <td>...</td>\n",
       "      <td>...</td>\n",
       "      <td>...</td>\n",
       "      <td>...</td>\n",
       "      <td>...</td>\n",
       "      <td>...</td>\n",
       "      <td>...</td>\n",
       "    </tr>\n",
       "    <tr>\n",
       "      <th>1455</th>\n",
       "      <td>3.898615</td>\n",
       "      <td>3.216957</td>\n",
       "      <td>2.979548</td>\n",
       "      <td>0.000000</td>\n",
       "      <td>2.663701</td>\n",
       "      <td>2.979548</td>\n",
       "      <td>8</td>\n",
       "      <td>1.612784</td>\n",
       "      <td>0.000000</td>\n",
       "      <td>1.799341</td>\n",
       "      <td>...</td>\n",
       "      <td>2.0</td>\n",
       "      <td>1</td>\n",
       "      <td>3</td>\n",
       "      <td>1</td>\n",
       "      <td>8</td>\n",
       "      <td>2007</td>\n",
       "      <td>1.0</td>\n",
       "      <td>3.0</td>\n",
       "      <td>3.0</td>\n",
       "      <td>3.0</td>\n",
       "    </tr>\n",
       "    <tr>\n",
       "      <th>1456</th>\n",
       "      <td>4.119784</td>\n",
       "      <td>3.316809</td>\n",
       "      <td>3.188366</td>\n",
       "      <td>2.898176</td>\n",
       "      <td>2.699838</td>\n",
       "      <td>3.316809</td>\n",
       "      <td>32</td>\n",
       "      <td>2.544068</td>\n",
       "      <td>2.079181</td>\n",
       "      <td>1.934498</td>\n",
       "      <td>...</td>\n",
       "      <td>2.0</td>\n",
       "      <td>3</td>\n",
       "      <td>3</td>\n",
       "      <td>1</td>\n",
       "      <td>2</td>\n",
       "      <td>2010</td>\n",
       "      <td>1.0</td>\n",
       "      <td>3.0</td>\n",
       "      <td>3.0</td>\n",
       "      <td>3.0</td>\n",
       "    </tr>\n",
       "    <tr>\n",
       "      <th>1457</th>\n",
       "      <td>3.956313</td>\n",
       "      <td>3.369401</td>\n",
       "      <td>3.061829</td>\n",
       "      <td>2.440909</td>\n",
       "      <td>2.403121</td>\n",
       "      <td>3.075182</td>\n",
       "      <td>69</td>\n",
       "      <td>1.785330</td>\n",
       "      <td>0.000000</td>\n",
       "      <td>1.826075</td>\n",
       "      <td>...</td>\n",
       "      <td>3.0</td>\n",
       "      <td>1</td>\n",
       "      <td>1</td>\n",
       "      <td>2</td>\n",
       "      <td>5</td>\n",
       "      <td>2010</td>\n",
       "      <td>1.0</td>\n",
       "      <td>2.0</td>\n",
       "      <td>3.0</td>\n",
       "      <td>3.0</td>\n",
       "    </tr>\n",
       "    <tr>\n",
       "      <th>1458</th>\n",
       "      <td>3.987577</td>\n",
       "      <td>3.033021</td>\n",
       "      <td>3.033021</td>\n",
       "      <td>1.698970</td>\n",
       "      <td>2.382017</td>\n",
       "      <td>3.033021</td>\n",
       "      <td>60</td>\n",
       "      <td>2.680336</td>\n",
       "      <td>0.000000</td>\n",
       "      <td>1.838849</td>\n",
       "      <td>...</td>\n",
       "      <td>3.0</td>\n",
       "      <td>2</td>\n",
       "      <td>3</td>\n",
       "      <td>1</td>\n",
       "      <td>4</td>\n",
       "      <td>2010</td>\n",
       "      <td>1.0</td>\n",
       "      <td>3.0</td>\n",
       "      <td>3.0</td>\n",
       "      <td>3.0</td>\n",
       "    </tr>\n",
       "    <tr>\n",
       "      <th>1459</th>\n",
       "      <td>3.997299</td>\n",
       "      <td>3.099335</td>\n",
       "      <td>3.099335</td>\n",
       "      <td>2.919601</td>\n",
       "      <td>2.442480</td>\n",
       "      <td>3.099335</td>\n",
       "      <td>43</td>\n",
       "      <td>2.905796</td>\n",
       "      <td>0.000000</td>\n",
       "      <td>1.880814</td>\n",
       "      <td>...</td>\n",
       "      <td>3.0</td>\n",
       "      <td>2</td>\n",
       "      <td>2</td>\n",
       "      <td>1</td>\n",
       "      <td>6</td>\n",
       "      <td>2008</td>\n",
       "      <td>1.0</td>\n",
       "      <td>3.0</td>\n",
       "      <td>3.0</td>\n",
       "      <td>3.0</td>\n",
       "    </tr>\n",
       "  </tbody>\n",
       "</table>\n",
       "<p>1460 rows × 29 columns</p>\n",
       "</div>"
      ],
      "text/plain": [
       "       LotArea  LivingArea  TotalBsmtSF  BsmtFinSF1  GarageArea  1stFlrSF  \\\n",
       "0     3.926908    3.233250     2.932981    2.849419    2.739572  2.932981   \n",
       "1     3.982316    3.101403     3.101403    2.990783    2.663701  3.101403   \n",
       "2     4.051191    3.252125     2.964260    2.687529    2.784617  2.964260   \n",
       "3     3.980049    3.235023     2.879096    2.336460    2.808211  2.983175   \n",
       "4     4.154150    3.342225     3.059185    2.816904    2.922725  3.059185   \n",
       "...        ...         ...          ...         ...         ...       ...   \n",
       "1455  3.898615    3.216957     2.979548    0.000000    2.663701  2.979548   \n",
       "1456  4.119784    3.316809     3.188366    2.898176    2.699838  3.316809   \n",
       "1457  3.956313    3.369401     3.061829    2.440909    2.403121  3.075182   \n",
       "1458  3.987577    3.033021     3.033021    1.698970    2.382017  3.033021   \n",
       "1459  3.997299    3.099335     3.099335    2.919601    2.442480  3.099335   \n",
       "\n",
       "      HouseAge  PorchArea  MasVnrArea  LotFrontage  ...  BsmtQual  HeatingQC  \\\n",
       "0            5   1.792392    2.294466     1.819544  ...       2.0          1   \n",
       "1           31   2.475671    0.000000     1.908485  ...       2.0          1   \n",
       "2            7   1.633468    2.212188     1.838849  ...       2.0          1   \n",
       "3           91   2.488551    0.000000     1.785330  ...       3.0          2   \n",
       "4            8   2.442480    2.545307     1.929419  ...       2.0          1   \n",
       "...        ...        ...         ...          ...  ...       ...        ...   \n",
       "1455         8   1.612784    0.000000     1.799341  ...       2.0          1   \n",
       "1456        32   2.544068    2.079181     1.934498  ...       2.0          3   \n",
       "1457        69   1.785330    0.000000     1.826075  ...       3.0          1   \n",
       "1458        60   2.680336    0.000000     1.838849  ...       3.0          2   \n",
       "1459        43   2.905796    0.000000     1.880814  ...       3.0          2   \n",
       "\n",
       "      ExterQual  MSSubClassGroup  MoSold  YrSold  SaleType  BsmtCond  \\\n",
       "0             2                1       2    2008       1.0       3.0   \n",
       "1             3                1       5    2007       1.0       3.0   \n",
       "2             2                1       9    2008       1.0       3.0   \n",
       "3             3                2       2    2006       1.0       2.0   \n",
       "4             2                1      12    2008       1.0       3.0   \n",
       "...         ...              ...     ...     ...       ...       ...   \n",
       "1455          3                1       8    2007       1.0       3.0   \n",
       "1456          3                1       2    2010       1.0       3.0   \n",
       "1457          1                2       5    2010       1.0       2.0   \n",
       "1458          3                1       4    2010       1.0       3.0   \n",
       "1459          2                1       6    2008       1.0       3.0   \n",
       "\n",
       "      GarageQual  GarageCond  \n",
       "0            3.0         3.0  \n",
       "1            3.0         3.0  \n",
       "2            3.0         3.0  \n",
       "3            3.0         3.0  \n",
       "4            3.0         3.0  \n",
       "...          ...         ...  \n",
       "1455         3.0         3.0  \n",
       "1456         3.0         3.0  \n",
       "1457         3.0         3.0  \n",
       "1458         3.0         3.0  \n",
       "1459         3.0         3.0  \n",
       "\n",
       "[1460 rows x 29 columns]"
      ]
     },
     "execution_count": 801,
     "metadata": {},
     "output_type": "execute_result"
    }
   ],
   "source": [
    "X_train_final"
   ]
  },
  {
   "cell_type": "code",
   "execution_count": 810,
   "metadata": {},
   "outputs": [
    {
     "name": "stdout",
     "output_type": "stream",
     "text": [
      "0.8343393995698909\n"
     ]
    }
   ],
   "source": [
    "clf = RandomForestRegressor()\n",
    "kf = KFold(n_splits=5, shuffle=True, random_state=42)\n",
    "scores = cross_val_score(clf, X_train, y_train, cv=kf)\n",
    "print(scores.mean())\n",
    "# clf.fit(X_train, y_train)\n",
    "# clf.feature_importances_"
   ]
  },
  {
   "cell_type": "code",
   "execution_count": 809,
   "metadata": {},
   "outputs": [
    {
     "name": "stdout",
     "output_type": "stream",
     "text": [
      "0.8506845351824012\n"
     ]
    }
   ],
   "source": [
    "clf = lgbm.LGBMRegressor(random_state=1)\n",
    "kf = KFold(n_splits=5, shuffle=True, random_state=42)\n",
    "scores = cross_val_score(clf, X_train, y_train, cv=kf)\n",
    "print(scores.mean())\n",
    "# clf.fit(X_train, y_train)\n",
    "# preds = clf.predict(X_test)"
   ]
  },
  {
   "cell_type": "code",
   "execution_count": 808,
   "metadata": {},
   "outputs": [
    {
     "name": "stdout",
     "output_type": "stream",
     "text": [
      "0.82492468024973\n"
     ]
    }
   ],
   "source": [
    "clf = BayesianRidge(compute_score=True)\n",
    "kf = KFold(n_splits=5, shuffle=True, random_state=42)\n",
    "scores = cross_val_score(clf, X_train, y_train, cv=kf)\n",
    "print(scores.mean())\n",
    "# clf.fit(X_train, y_train)\n",
    "# preds = clf.predict(X_test)"
   ]
  },
  {
   "cell_type": "code",
   "execution_count": 804,
   "metadata": {},
   "outputs": [],
   "source": [
    "output = pd.DataFrame({'Id': test.Id, 'SalePrice': preds})\n",
    "output.to_csv('submission.csv', index=False)"
   ]
  },
  {
   "cell_type": "markdown",
   "metadata": {},
   "source": [
    "it keeps on doing worse when it just doenst have the stuff\n",
    "\n",
    "solution: give literally all the features\n",
    "\n",
    "^^ add like all of the cat ones skipped before tmrw\n",
    "\n",
    "also try to give it each of the indiv porch ones also"
   ]
  }
 ],
 "metadata": {
  "kernelspec": {
   "display_name": "Python 3.9.13 64-bit (windows store)",
   "language": "python",
   "name": "python3"
  },
  "language_info": {
   "codemirror_mode": {
    "name": "ipython",
    "version": 3
   },
   "file_extension": ".py",
   "mimetype": "text/x-python",
   "name": "python",
   "nbconvert_exporter": "python",
   "pygments_lexer": "ipython3",
   "version": "3.9.13"
  },
  "orig_nbformat": 4,
  "vscode": {
   "interpreter": {
    "hash": "577cd82dce11bb3dc408dc87b140042ea24ff4301c4cdd330bbe9a55103eb11a"
   }
  }
 },
 "nbformat": 4,
 "nbformat_minor": 2
}
